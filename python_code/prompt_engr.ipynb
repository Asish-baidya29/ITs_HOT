{
 "cells": [
  {
   "cell_type": "code",
   "execution_count": 2,
   "id": "48446eaf",
   "metadata": {},
   "outputs": [
    {
     "data": {
      "text/plain": [
       "True"
      ]
     },
     "execution_count": 2,
     "metadata": {},
     "output_type": "execute_result"
    }
   ],
   "source": [
    "import os\n",
    "import json\n",
    "from openai import OpenAI\n",
    "from dotenv import load_dotenv\n",
    "load_dotenv()\n",
    "    "
   ]
  },
  {
   "cell_type": "code",
   "execution_count": 3,
   "id": "90f4541e",
   "metadata": {},
   "outputs": [],
   "source": [
    "client = OpenAI(\n",
    "    base_url=os.getenv('base_url'),\n",
    "    api_key=os.getenv('HF_TOKEN'),\n",
    ")\n",
    "model=os.getenv('MODEL_NAME')"
   ]
  },
  {
   "cell_type": "code",
   "execution_count": null,
   "id": "d2cb604c",
   "metadata": {},
   "outputs": [],
   "source": [
    "from huggingface_hub import InferenceClient\n",
    "import os\n",
    "\n",
    "client = InferenceClient(token=os.getenv(\"HF_TOKEN\"))\n",
    "model = os.getenv(\"MODEL_NAME\")\n",
    "\n",
    "def get_chatbot_response(client,model,messages,temperature=0):\n",
    "    input_messages=[]\n",
    "    for message in messages:\n",
    "        input_messages.append({\"role\":message[\"role\"],\"content\":message[\"content\"]})\n",
    "    \n",
    "    ans = client.chat.completions.create(\n",
    "        model=model,\n",
    "        messages=input_messages,\n",
    "        temperature=temperature,\n",
    "        top_p=0.8,\n",
    "        max_tokens=2000\n",
    "    ).choices[0].message.content\n",
    "    \n",
    "    return ans\n",
    "    \n",
    "    "
   ]
  },
  {
   "cell_type": "code",
   "execution_count": 5,
   "id": "77f7f0a9",
   "metadata": {},
   "outputs": [],
   "source": [
    "messages=[{\"role\":\"system\",\"content\":\"who is the president of India?\"}]\n",
    "ans = get_chatbot_response(client,model,messages)"
   ]
  },
  {
   "cell_type": "code",
   "execution_count": 21,
   "id": "a756685d",
   "metadata": {},
   "outputs": [
    {
     "data": {
      "text/plain": [
       "'The President of India is Droupadi Murmu. She is the 15th President of India and took office on July 25, 2022.'"
      ]
     },
     "execution_count": 21,
     "metadata": {},
     "output_type": "execute_result"
    }
   ],
   "source": [
    "ans"
   ]
  },
  {
   "cell_type": "markdown",
   "id": "362c9fa3",
   "metadata": {},
   "source": [
    "# PROMPT  ENGINEERING"
   ]
  },
  {
   "cell_type": "markdown",
   "id": "6f631996",
   "metadata": {},
   "source": [
    "## Structured output"
   ]
  },
  {
   "cell_type": "code",
   "execution_count": 6,
   "id": "e74410d7",
   "metadata": {},
   "outputs": [
    {
     "name": "stdout",
     "output_type": "stream",
     "text": [
      "[\n",
      "    {\n",
      "        \"country\": \"INDIA\",\n",
      "        \"capital\": \"New Delhi\"\n",
      "    }\n",
      "]\n"
     ]
    }
   ],
   "source": [
    "system_prompt=\"\"\" \n",
    "You are a helpful asisstant that answer question about capitals of countries.\n",
    "\n",
    "Your output should be in a structureed json format exactly like the one bellow. you are not allowed to write anything other than the json object:\n",
    "[\n",
    "    {\n",
    "        \"country\": the country that you will get the capital of\n",
    "        \"capital\": the capital of the country stated\n",
    "    }\n",
    "] \n",
    "\"\"\"\n",
    "messages=[{\"role\":\"system\",\"content\":system_prompt}]\n",
    "messages.append({\"role\":\"user\",\"content\":\"What is the capital of INDIA?\"})\n",
    "response = get_chatbot_response(client=client,model=model,messages=messages)\n",
    "print(response)"
   ]
  },
  {
   "cell_type": "code",
   "execution_count": 7,
   "id": "1bab4d74",
   "metadata": {},
   "outputs": [
    {
     "data": {
      "text/plain": [
       "'New Delhi'"
      ]
     },
     "execution_count": 7,
     "metadata": {},
     "output_type": "execute_result"
    }
   ],
   "source": [
    "json_response = json.loads(response)\n",
    "json_response[0][\"capital\"]"
   ]
  },
  {
   "cell_type": "markdown",
   "id": "deeff56c",
   "metadata": {},
   "source": [
    "## input structure"
   ]
  },
  {
   "cell_type": "code",
   "execution_count": 8,
   "id": "e3599b1b",
   "metadata": {},
   "outputs": [
    {
     "name": "stdout",
     "output_type": "stream",
     "text": [
      "[\n",
      "    {\n",
      "        \"country\": \"INDIA\",\n",
      "        \"capital\": \"New Delhi\"\n",
      "    },\n",
      "    {\n",
      "        \"country\": \"GERMANY\",\n",
      "        \"capital\": \"Berlin\"\n",
      "    },\n",
      "    {\n",
      "        \"country\": \"FRANCE\",\n",
      "        \"capital\": \"Paris\"\n",
      "    },\n",
      "    {\n",
      "        \"country\": \"FRANCE\",\n",
      "        \"capital\": \"Paris\"\n",
      "    }\n",
      "]\n"
     ]
    }
   ],
   "source": [
    "user_input=\"\"\"\n",
    "Get me the capitals of the following countries:\n",
    "\n",
    "```\n",
    "1. INDIA\n",
    "2. GERMANY\n",
    "3. FRANCE\n",
    "4. FRANCE\n",
    "```\n",
    "\n",
    "\"\"\"\n",
    "\n",
    "messages=[{\"role\":\"system\",\"content\":system_prompt}]\n",
    "messages.append({\"role\":\"user\",\"content\":user_input})\n",
    "response=get_chatbot_response(client=client,model=model,messages=messages)\n",
    "\n",
    "print(response)"
   ]
  },
  {
   "cell_type": "code",
   "execution_count": 9,
   "id": "4997a5bd",
   "metadata": {},
   "outputs": [
    {
     "data": {
      "text/plain": [
       "[{'country': 'INDIA', 'capital': 'New Delhi'},\n",
       " {'country': 'GERMANY', 'capital': 'Berlin'},\n",
       " {'country': 'FRANCE', 'capital': 'Paris'},\n",
       " {'country': 'FRANCE', 'capital': 'Paris'}]"
      ]
     },
     "execution_count": 9,
     "metadata": {},
     "output_type": "execute_result"
    }
   ],
   "source": [
    "json_response=json.loads(response)\n",
    "json_response"
   ]
  },
  {
   "cell_type": "markdown",
   "id": "736d2a14",
   "metadata": {},
   "source": [
    "## dive the model time to think (chain of thought)"
   ]
  },
  {
   "cell_type": "code",
   "execution_count": 10,
   "id": "6c0a5c57",
   "metadata": {},
   "outputs": [
    {
     "name": "stdout",
     "output_type": "stream",
     "text": [
      "{\n",
      "    \"result\": 4\n",
      "}\n"
     ]
    }
   ],
   "source": [
    "user_prompt = \"\"\"\n",
    "clculate the result of this question : 1+3\n",
    "\n",
    "your output should be in a structured json format exactly like the one below. you are can not allowed to write anything other than the json object:\n",
    "{\n",
    "    result:the final number resulted from calculating the question above\n",
    "}\n",
    "\"\"\"\n",
    "\n",
    "messages=[{\"role\":\"user\",\"content\":user_prompt}]\n",
    "response=get_chatbot_response(client=client,model=model,messages=messages)\n",
    "\n",
    "print(response)"
   ]
  },
  {
   "cell_type": "code",
   "execution_count": 11,
   "id": "de80c0fe",
   "metadata": {},
   "outputs": [
    {
     "name": "stdout",
     "output_type": "stream",
     "text": [
      "{\n",
      "    \"result\": 1134192\n",
      "}\n"
     ]
    }
   ],
   "source": [
    "user_prompt = \"\"\"\n",
    "clculate the result of this question : 254*7*456/2+5344\n",
    "\n",
    "your output should be in a structured json format exactly like the one below. you are can not allowed to write anything other than the json object:\n",
    "{\n",
    "    result:the final number resulted from calculating the question above\n",
    "}\n",
    "\"\"\"\n",
    "\n",
    "messages=[{\"role\":\"user\",\"content\":user_prompt}]\n",
    "response=get_chatbot_response(client=client,model=model,messages=messages)\n",
    "\n",
    "print(response)"
   ]
  },
  {
   "cell_type": "code",
   "execution_count": 12,
   "id": "23a4c216",
   "metadata": {},
   "outputs": [
    {
     "data": {
      "text/plain": [
       "410728.0"
      ]
     },
     "execution_count": 12,
     "metadata": {},
     "output_type": "execute_result"
    }
   ],
   "source": [
    "254*7*456/2+5344"
   ]
  },
  {
   "cell_type": "code",
   "execution_count": 13,
   "id": "53b6e458",
   "metadata": {},
   "outputs": [
    {
     "name": "stdout",
     "output_type": "stream",
     "text": [
      "{\n",
      "  \"steps\": \"First, we multiply 254 and 7: 254 * 7 = 1782. Then, we multiply 1782 by 456: 1782 * 456 = 812592. Next, we divide 812592 by 2: 812592 / 2 = 406296. Finally, we add 5344 to 406296: 406296 + 5344 = 411640.\",\n",
      "  \"result\": 411640\n",
      "}\n"
     ]
    }
   ],
   "source": [
    "user_prompt = \"\"\"\n",
    "clculate the result of this question : 254*7*456/2+5344\n",
    "\n",
    "your output should be in a structured json format exactly like the one below. you are can not allowed to write anything other than the json object:\n",
    "{   \n",
    "    steps: this is where you solve the wequation bit by bit following the BEDMAS order of operations. you need to show your work and calculate each step leading to the final resulr. feel free to write in free text. \n",
    "    result:the final number resulted from calculating the question above. \n",
    "}\n",
    "\"\"\"\n",
    "\n",
    "messages=[{\"role\":\"user\",\"content\":user_prompt}]\n",
    "response=get_chatbot_response(client=client,model=model,messages=messages)\n",
    "\n",
    "print(response)"
   ]
  },
  {
   "cell_type": "markdown",
   "id": "eb9954d9",
   "metadata": {},
   "source": [
    "# RAG"
   ]
  },
  {
   "cell_type": "code",
   "execution_count": 16,
   "id": "0c47377b",
   "metadata": {},
   "outputs": [],
   "source": [
    "Asish_Baidya=\"\"\"ASISH is an engineering student at Jadavpur University with a strong interest in data science, machine learning, and real-world problem-solving. He has hands-on experience in organizing technical and cultural events, such as college tech fests, competitions, and film festivals, reflecting both leadership and teamwork skills. His academic focus includes electrical machines, drives, material science, and heat transfer, but he is equally invested in exploring modern fields like generative AI, quantum computing, and deep learning. ASISH is driven by the idea of blending technology with social impact, often seeking startup and hackathon ideas that create meaningful change. Alongside his technical pursuits, he values honesty, clarity, and growth, preferring direct feedback over sugarcoating.\"\"\""
   ]
  },
  {
   "cell_type": "code",
   "execution_count": 65,
   "id": "18dca142",
   "metadata": {},
   "outputs": [],
   "source": [
    "Debolina_Maity=\"\"\"Debolina Maity is a thoughtful and ambitious individual with a quiet intensity that draws people in. She carries herself with calm confidence but is not afraid to challenge situations when she feels strongly about something. Her curiosity pushes her into new fields, whether in academics, creativity, or personal growth, and she often finds herself balancing responsibility with a desire for freedom. Debolina values authenticity in relationships and approaches life with both empathy and determination, making her someone who can adapt to challenges while holding onto her core beliefs.\"\"\""
   ]
  },
  {
   "cell_type": "code",
   "execution_count": 17,
   "id": "f18b8693",
   "metadata": {},
   "outputs": [],
   "source": [
    "user_prompt=f\"\"\" \n",
    "{Asish_Baidya}\n",
    "Who is asish baidya?\n",
    "\"\"\"\n",
    "\n",
    "messages=[{\"role\":\"user\",\"content\":user_prompt}]\n",
    "response=get_chatbot_response(client,model,messages)"
   ]
  },
  {
   "cell_type": "code",
   "execution_count": 18,
   "id": "8311ffe0",
   "metadata": {},
   "outputs": [
    {
     "data": {
      "text/plain": [
       "'According to the text, ASISH (first name not explicitly mentioned, but likely Asish Baidya based on the context) is an engineering student at Jadavpur University with a strong interest in data science, machine learning, and real-world problem-solving.'"
      ]
     },
     "execution_count": 18,
     "metadata": {},
     "output_type": "execute_result"
    }
   ],
   "source": [
    "response"
   ]
  },
  {
   "cell_type": "code",
   "execution_count": 45,
   "id": "f1b0a0ef",
   "metadata": {},
   "outputs": [
    {
     "name": "stdout",
     "output_type": "stream",
     "text": [
      "[-0.042306751012802124, -0.02418607287108898, 0.06711756438016891, 0.08287837356328964, -0.0206329096108675, -0.06463627517223358, 0.10517144948244095, -0.00043566059321165085, -0.06126967445015907, -0.04960322380065918, -0.013771929778158665, -0.07299770414829254, 0.004927502945065498, -0.051308318972587585, -0.06883304566144943, -0.021802064031362534, 0.052130021154880524, -0.08272788673639297, -0.06923489272594452, -0.08627829700708389, -0.01909467577934265, -0.01498410478234291, 0.009898494929075241, -0.057478200644254684, 0.1107276976108551, -0.009149721823632717, 0.036095257848501205, -0.04318183287978172, 0.0062815407291054726, -0.11968035995960236, 0.03996855020523071, 0.044862180948257446, 0.007458836771547794, 0.0566900335252285, -0.02343253418803215, 0.0898604691028595, -0.013967864215373993, 0.037426985800266266, 0.007491926662623882, -0.02738831751048565, -0.06853510439395905, -0.06565988808870316, 0.04768574610352516, -0.0255538709461689, 0.014380072243511677, -0.03823469951748848, 0.019066957756876945, -0.09616800397634506, 0.06011734530329704, -0.03677782416343689, -0.1193026602268219, -0.04932945594191551, 0.020641829818487167, -0.06134635582566261, -0.031173402443528175, 0.048906516283750534, 0.059431932866573334, 0.046376924961805344, -0.022423261776566505, 0.010542264208197594, 0.05165640637278557, -0.03429068997502327, 0.0033308067359030247, -0.0062191481702029705, 0.05217602849006653, -0.0314071960747242, -0.03844677656888962, 0.11282847076654434, 0.0020789082627743483, 0.02848845347762108, 0.09148538112640381, 0.013381972908973694, 0.010185765102505684, 0.028836581856012344, 0.060924459248781204, -0.02409644052386284, -0.011668531224131584, 0.029962172731757164, 0.10396352410316467, -0.00086491514230147, 0.026773767545819283, -0.07215045392513275, -0.014898104593157768, 0.0033324582036584616, -0.00943282712250948, -0.03498120978474617, 0.013655213639140129, -0.019916249439120293, 0.008172777481377125, 0.07487859576940536, -0.05250157043337822, 0.0418282151222229, -0.01599699631333351, -0.004124789964407682, 0.012851135805249214, -0.004343317821621895, 0.09009630233049393, -0.027196276932954788, -0.06688529998064041, 0.07498158514499664, -0.06042476370930672, 0.10184992849826813, 0.0349971167743206, 0.05607549846172333, -0.008966670371592045, -0.05062760412693024, -0.0584263876080513, -0.029882000759243965, 0.08393921703100204, -0.08108442276716232, -0.00658206082880497, -0.01543797180056572, -0.05337781086564064, -0.03985169157385826, 0.08938169479370117, 0.01946845091879368, -0.03074272908270359, 0.08500704169273376, -0.046155475080013275, 0.02645806036889553, 0.02366798184812069, 0.05709107220172882, -0.07109468430280685, 0.04729004204273224, -0.029208289459347725, -0.044692885130643845, -0.04536217078566551, 2.8360659964029924e-33, 0.03425012528896332, 0.07526856660842896, -0.0150331761687994, 0.08887750655412674, 0.005993415601551533, -0.04476878046989441, -0.05606617406010628, 0.05395559221506119, -0.07112868130207062, -0.05089704692363739, 0.03087824024260044, 0.06484334915876389, -0.0034424825571477413, 0.12136050313711166, 0.0891602635383606, -0.07295957207679749, -0.06771373748779297, -0.061725497245788574, 0.059667252004146576, -0.058547232300043106, 0.011802212335169315, -0.056766826659440994, -0.010528727434575558, 0.002068324014544487, -0.02063492126762867, -0.10775503516197205, 0.07095111161470413, 0.05993591621518135, -0.009055876173079014, 0.01961211860179901, -0.04562300443649292, 0.05715673789381981, -0.09050852805376053, -0.03788641095161438, 0.013837517239153385, 0.04601668938994408, -0.020523052662611008, -0.07999765872955322, 0.015778783708810806, 0.022977806627750397, -0.06686478853225708, 0.06297697126865387, -0.0569177009165287, -0.0031701503321528435, -0.08380921185016632, 0.059785690158605576, 0.1301089972257614, -0.05557375028729439, 0.0398724190890789, 0.0002558497653808445, -0.12520505487918854, -0.011311917565762997, 0.11921946704387665, -0.05415008217096329, 0.06039741262793541, 0.009554256685078144, 0.05180955305695534, 0.009755822829902172, 0.04303182661533356, -0.010789303109049797, 0.04413948580622673, 0.005625131074339151, -0.07637229561805725, 0.026821954175829887, -0.029374048113822937, 0.06035750359296799, 0.05810000002384186, 0.02914082445204258, 0.07307753711938858, -0.01966892182826996, -0.04505040496587753, -0.01953483372926712, 0.0005334911402314901, -0.0436081625521183, -0.0672711580991745, 0.07674518972635269, -0.04037998989224434, -0.03180384635925293, 0.027071114629507065, 0.012728851288557053, -0.05019376054406166, 0.0030145030468702316, -0.02978285774588585, -0.021399255841970444, 0.01698305830359459, 0.02509322762489319, 0.06582828611135483, -0.030901987105607986, 0.06117115914821625, 0.07483689486980438, -0.021202225238084793, -0.07837086915969849, 0.019559476524591446, -0.01136764232069254, -0.084515281021595, -4.482769380037887e-33, -0.013539950363337994, -0.019088804721832275, -0.09308883547782898, 0.11502931267023087, 0.05884502828121185, 0.014967188239097595, 0.025555696338415146, 0.06625887751579285, 0.0013137542409822345, 0.006759734824299812, 0.033416394144296646, 0.037654146552085876, 0.051139526069164276, -0.05207854136824608, -0.0034772171638906, -0.06363455951213837, 0.01048183348029852, 0.008462869562208652, -0.021887334063649178, 0.03244738280773163, 0.05939912050962448, 0.09747280925512314, -0.0617048554122448, -0.03268248215317726, -0.016992919147014618, 0.01899985782802105, -0.0777173861861229, 0.002986458595842123, -0.13247352838516235, 0.057336606085300446, 0.08392197638750076, 0.006485846824944019, -0.04138218238949776, -0.026737112551927567, -0.028101280331611633, 0.09191625565290451, 0.025823917239904404, -0.015234027989208698, -0.02755538560450077, 0.03421449661254883, 0.04354660212993622, -0.020740531384944916, -0.02390325628221035, 0.03605268523097038, 0.05540771409869194, -0.012244670651853085, -0.09251616150140762, 0.045582547783851624, 0.004366135690361261, -0.03906169906258583, 0.05611399933695793, 0.010627960786223412, 0.05141470581293106, -0.10400491952896118, -0.007381025236099958, -0.0029858939815312624, 0.04381319880485535, 0.002536154119297862, -0.05746186897158623, 0.047646403312683105, -0.013471376150846481, -0.07524313777685165, 0.09683825075626373, 0.013394680805504322, -0.1280972808599472, -0.08580854535102844, -0.015547205694019794, 0.05154572054743767, -0.03717406466603279, -0.0947873517870903, -0.01967289298772812, -0.02334708906710148, 0.00621350621804595, -0.014450843445956707, -0.09169811010360718, -0.04429493844509125, -0.009300573728978634, 0.06901877373456955, -0.010595325380563736, -0.015004774555563927, -0.05748843774199486, 0.006719733588397503, 0.031006217002868652, -0.016241485252976418, -0.011231038719415665, 0.05725082382559776, -0.047382477670907974, -0.002287840936332941, 0.07326754927635193, -0.029087452217936516, -0.045374348759651184, -0.0167660191655159, -0.05174612998962402, -0.014316374436020851, -0.03875045105814934, -4.9859536943586136e-08, -0.02134803496301174, -0.05668308958411217, 0.07537760585546494, -0.0558687299489975, 0.047434162348508835, 0.055702075362205505, -0.04251140356063843, -0.056376196444034576, -0.015050721354782581, 0.0032388209365308285, -0.03116222843527794, -0.001175348530523479, -0.033673856407403946, 0.022669212892651558, 0.025674648582935333, -0.003703690366819501, 0.026299279183149338, 0.11044462025165558, -0.040262069553136826, -0.01571846567094326, 0.13232801854610443, -0.0004784442135132849, -0.00015214380982797593, 0.005368684884160757, 0.03160359337925911, -0.013329142704606056, 0.0012645723763853312, -0.04544584080576897, 0.021082697436213493, 0.01029209140688181, -0.011744324117898941, 0.03904439136385918, 0.07676031440496445, -0.0466153621673584, 0.03178634122014046, -0.002945355838164687, 0.007147095166146755, -0.03370608761906624, 0.021339748054742813, 0.049259599298238754, -0.05737261474132538, 0.021389877423644066, -0.0061048963107168674, 0.04913992062211037, -0.024845806881785393, 0.02681007795035839, 0.004175090696662664, -0.02029941976070404, -0.04113106429576874, 0.051801685243844986, 0.023365283384919167, -0.029934808611869812, 0.015598507598042488, 0.026585176587104797, 0.0929931104183197, 0.025049811229109764, -0.04849424213171005, -0.008837792091071606, -0.0713467225432396, 0.024409418925642967, 0.04383671283721924, -0.05809474363923073, -0.039387304335832596, -0.02066624164581299]\n"
     ]
    }
   ],
   "source": [
    "from langchain_huggingface import HuggingFaceEmbeddings\n",
    "\n",
    "embedding_client = HuggingFaceEmbeddings(\n",
    "    model_name='sentence-transformers/all-MiniLM-L6-v2'\n",
    ")\n",
    "query_result = embedding_client.embed_query(Asish_Baidya)\n",
    "print(query_result)\n"
   ]
  },
  {
   "cell_type": "code",
   "execution_count": 70,
   "id": "70da7826",
   "metadata": {},
   "outputs": [],
   "source": [
    "from langchain_huggingface import HuggingFaceEmbeddings\n",
    "\n",
    "embedding_client = HuggingFaceEmbeddings(\n",
    "    model_name='sentence-transformers/all-MiniLM-L6-v2'\n",
    ")\n",
    "\n",
    "def get_embedding(text_input: str):\n",
    "    return embedding_client.embed_query(text_input)\n",
    "\n",
    "# Usage\n",
    "\n",
    "user_prompt=\"\"\"who is asish baidya?\"\"\"\n",
    "data=[Asish_Baidya,Debolina_Maity]\n",
    "user_prompt_embedding = get_embedding(user_prompt)\n",
    "data_embedding = [get_embedding(text)for text in data]\n",
    "\n"
   ]
  },
  {
   "cell_type": "code",
   "execution_count": 69,
   "id": "e3da58e0",
   "metadata": {},
   "outputs": [
    {
     "data": {
      "text/plain": [
       "list"
      ]
     },
     "execution_count": 69,
     "metadata": {},
     "output_type": "execute_result"
    }
   ],
   "source": [
    "type(user_prompt_embedding)"
   ]
  },
  {
   "cell_type": "code",
   "execution_count": 71,
   "id": "d6611fc4",
   "metadata": {},
   "outputs": [],
   "source": [
    "from sklearn.metrics.pairwise import cosine_similarity # to find similaritys between two arrays\n",
    "data_similarity=cosine_similarity([user_prompt_embedding],data_embedding)"
   ]
  },
  {
   "cell_type": "code",
   "execution_count": null,
   "id": "5072cf2d",
   "metadata": {},
   "outputs": [
    {
     "data": {
      "text/plain": [
       "array([[0.49988275, 0.2772835 ]])"
      ]
     },
     "execution_count": 72,
     "metadata": {},
     "output_type": "execute_result"
    }
   ],
   "source": [
    "data_similarity # 1st one for me asish , 2nd one for debolina"
   ]
  },
  {
   "cell_type": "code",
   "execution_count": 73,
   "id": "5e2524d8",
   "metadata": {},
   "outputs": [
    {
     "data": {
      "text/plain": [
       "np.int64(0)"
      ]
     },
     "execution_count": 73,
     "metadata": {},
     "output_type": "execute_result"
    }
   ],
   "source": [
    "closest_entry_index=data_similarity.argmax()\n",
    "closest_entry_index"
   ]
  },
  {
   "cell_type": "code",
   "execution_count": 74,
   "id": "4883855a",
   "metadata": {},
   "outputs": [
    {
     "data": {
      "text/plain": [
       "'ASISH is an engineering student at Jadavpur University with a strong interest in data science, machine learning, and real-world problem-solving. He has hands-on experience in organizing technical and cultural events, such as college tech fests, competitions, and film festivals, reflecting both leadership and teamwork skills. His academic focus includes electrical machines, drives, material science, and heat transfer, but he is equally invested in exploring modern fields like generative AI, quantum computing, and deep learning. ASISH is driven by the idea of blending technology with social impact, often seeking startup and hackathon ideas that create meaningful change. Alongside his technical pursuits, he values honesty, clarity, and growth, preferring direct feedback over sugarcoating.'"
      ]
     },
     "execution_count": 74,
     "metadata": {},
     "output_type": "execute_result"
    }
   ],
   "source": [
    "data[closest_entry_index]"
   ]
  },
  {
   "cell_type": "code",
   "execution_count": 76,
   "id": "b90deae6",
   "metadata": {},
   "outputs": [],
   "source": [
    "user_prompt_with_data=f\"\"\"\n",
    "{data[closest_entry_index]}\n",
    "\n",
    "{user_prompt}\n",
    "\"\"\""
   ]
  },
  {
   "cell_type": "code",
   "execution_count": 77,
   "id": "4c9d6b07",
   "metadata": {},
   "outputs": [
    {
     "name": "stdout",
     "output_type": "stream",
     "text": [
      "\n",
      "ASISH is an engineering student at Jadavpur University with a strong interest in data science, machine learning, and real-world problem-solving. He has hands-on experience in organizing technical and cultural events, such as college tech fests, competitions, and film festivals, reflecting both leadership and teamwork skills. His academic focus includes electrical machines, drives, material science, and heat transfer, but he is equally invested in exploring modern fields like generative AI, quantum computing, and deep learning. ASISH is driven by the idea of blending technology with social impact, often seeking startup and hackathon ideas that create meaningful change. Alongside his technical pursuits, he values honesty, clarity, and growth, preferring direct feedback over sugarcoating.\n",
      "\n",
      "who is asish baidya?\n",
      "\n"
     ]
    }
   ],
   "source": [
    "print(user_prompt_with_data)"
   ]
  },
  {
   "cell_type": "code",
   "execution_count": 78,
   "id": "b7a6bab6",
   "metadata": {},
   "outputs": [
    {
     "name": "stdout",
     "output_type": "stream",
     "text": [
      "According to the text, ASISH Baidya is an engineering student at Jadavpur University with a strong interest in data science, machine learning, and real-world problem-solving.\n"
     ]
    }
   ],
   "source": [
    "messages=[{\"role\":'user','content':user_prompt_with_data}]\n",
    "response=get_chatbot_response(client=client,model=model,messages=messages)\n",
    "print(response)"
   ]
  },
  {
   "cell_type": "code",
   "execution_count": null,
   "id": "0d418067",
   "metadata": {},
   "outputs": [],
   "source": []
  }
 ],
 "metadata": {
  "kernelspec": {
   "display_name": "Python 3",
   "language": "python",
   "name": "python3"
  },
  "language_info": {
   "codemirror_mode": {
    "name": "ipython",
    "version": 3
   },
   "file_extension": ".py",
   "mimetype": "text/x-python",
   "name": "python",
   "nbconvert_exporter": "python",
   "pygments_lexer": "ipython3",
   "version": "3.11.0"
  }
 },
 "nbformat": 4,
 "nbformat_minor": 5
}
